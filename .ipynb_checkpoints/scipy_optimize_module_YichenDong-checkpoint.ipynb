{
 "cells": [
  {
   "cell_type": "markdown",
   "metadata": {
    "id": "dvZwr-fMA-ZW"
   },
   "source": [
    "##Scipy\n",
    "\n",
    "SciPy is a Python library for scientific computing and technical computing. It provides a range of functionalities for numerical optimization, integration, interpolation, signal processing, linear algebra, and more.\n",
    "\n",
    "The development process of SciPy can be divided into the following stages:\n",
    "\n",
    "Idea and Design: The first stage of the development process is the idea and design stage. During this stage, developers and contributors to the project identify new features or functionalities that would be useful to add to the library. They also discuss design considerations and potential challenges associated with adding these features.\n",
    "\n",
    "Implementation: Once a new feature or functionality has been identified and designed, the next stage is implementation. During this stage, developers and contributors to the project write and test the code necessary to add the new feature to the library. This stage also involves reviewing and testing the code to ensure that it is functional and does not introduce any new bugs or issues.\n",
    "\n",
    "Documentation: After a new feature or functionality has been implemented and tested, the next stage is documentation. During this stage, developers and contributors to the project write documentation for the new feature or functionality. This documentation helps users of the library to understand how to use the new feature and what its capabilities are.\n",
    "\n",
    "Testing and Quality Assurance: Once a new feature or functionality has been implemented and documented, the next stage is testing and quality assurance. During this stage, developers and contributors to the project test the new feature or functionality under a range of conditions to ensure that it is reliable, robust, and performs as expected.\n",
    "\n",
    "Release: Once a new feature or functionality has been implemented, documented, tested, and reviewed, the final stage is release. During this stage, a new version of the library is packaged and released to the public. This release may include a range of new features and functionalities as well as bug fixes and other improvements.\n",
    "\n",
    "The development of SciPy is driven by a large and active community of developers and contributors. Anyone can contribute to the project by submitting bug reports, feature requests, or code contributions through the project's GitHub repository. The project is also supported by several organizations, including NumFOCUS, a nonprofit organization that supports open source scientific computing projects.\n",
    "\n",
    "Scipy is organized into several sub-packages that specialize in different areas of scientific computing.\n",
    "\n",
    "- scipy.optimize: \n",
    "\n",
    "This sub-package provides functions for optimization, including both constrained and unconstrained optimization.\n",
    "\n",
    "- scipy.stats: \n",
    "\n",
    "This sub-package provides a wide range of statistical functions for analyzing data, including probability distributions, hypothesis testing, and statistical tests.\n",
    "\n",
    "- scipy.signal: \n",
    "\n",
    "This sub-package provides functions for signal processing, including filtering, spectral analysis, and convolution.\n",
    "\n",
    "- scipy.interpolate: \n",
    "\n",
    "This sub-package provides functions for interpolation, including spline interpolation, linear interpolation, and polynomial interpolation.\n",
    "\n",
    "- scipy.integrate: \n",
    "\n",
    "This sub-package provides functions for numerical integration, including both single and multiple integration.\n",
    "\n",
    "###Scipy.optimize\n",
    "\n",
    "Scipy.optimize is a sub-package of Scipy that provides a wide range of optimization functions for solving different types of optimization problems. These optimization problems may involve minimizing or maximizing a function, or finding the root of a function. Some functions in the scipy.optimize include:\n",
    "\n",
    "- minimize: \n",
    "\n",
    "This function provides a generic interface for minimizing a function of one or more variables. It supports several optimization methods, including gradient-based methods, conjugate gradient methods, Newton-based methods, and more.\n",
    "\n",
    "- curve_fit: \n",
    "\n",
    "This function provides a non-linear least squares fit to a function with a given set of data points. It uses the Levenberg-Marquardt algorithm to perform the optimization.\n",
    "\n",
    "- root: \n",
    "\n",
    "This function finds the roots of a system of non-linear equations. It supports several methods for finding the roots, including the Broyden method, the Anderson method, and the Krylov method.\n",
    "\n",
    "- linear_sum_assignment: \n",
    "\n",
    "This function solves the assignment problem, which involves assigning a set of agents to a set of tasks in such a way as to minimize the total cost.\n",
    "\n",
    "- minimize_scalar: \n",
    "\n",
    "This function provides a generic interface for minimizing a scalar function of a single variable. It supports several optimization methods, including Brent's method, the golden section method, and more.\n",
    "\n",
    "\n",
    "* What key problems are solved?\n",
    "  * Rootfinding? Interpolation? Regression?\n",
    "\n",
    "Some of the key problems that are solved by Scipy.optimize include:\n",
    "\n",
    "- Root-finding: \n",
    "\n",
    "The root-finding functions in Scipy.optimize are used to find the roots of a given function. \n",
    "\n",
    "Example:\n",
    "\n",
    "Suppose we want to find the roots of the function f(x) = x^3 - 2x - 5. We can use the scipy.optimize.root function to solve this problem:"
   ]
  },
  {
   "cell_type": "code",
   "execution_count": 1,
   "metadata": {
    "colab": {
     "base_uri": "https://localhost:8080/"
    },
    "id": "CHSueVhdEsFt",
    "outputId": "b5139e11-ae44-4152-e4b0-0ce0ae92b6c7"
   },
   "outputs": [
    {
     "name": "stdout",
     "output_type": "stream",
     "text": [
      "[2.09455148]\n"
     ]
    }
   ],
   "source": [
    "import numpy as np\n",
    "from scipy.optimize import root\n",
    "\n",
    "def f(x):\n",
    "    return x**3 - 2*x - 5\n",
    "\n",
    "# initial guess for the root\n",
    "x0 = np.array([1.0])\n",
    "\n",
    "# solve for the root\n",
    "sol = root(f, x0)\n",
    "\n",
    "print(sol.x) \n"
   ]
  },
  {
   "cell_type": "markdown",
   "metadata": {
    "id": "1Bqf-P6zFDAJ"
   },
   "source": [
    "- Least-squares minimization: \n",
    "\n",
    "Scipy.optimize provides several functions for performing least-squares minimization, which involves finding the parameters that minimize the sum of the squared differences between a set of data points and a model.\n",
    "\n",
    "Example:\n",
    "\n",
    "Suppose we have some data points (x, y) and we want to fit a quadratic model to the data. We can use the scipy.optimize.curve_fit function to find the parameters of the model that minimize the sum of the squared differences between the data and the model"
   ]
  },
  {
   "cell_type": "code",
   "execution_count": 2,
   "metadata": {
    "colab": {
     "base_uri": "https://localhost:8080/",
     "height": 430
    },
    "id": "-Ar4_scjEzdu",
    "outputId": "a59f5195-adc4-4866-cfaa-64c9169ff4e9"
   },
   "outputs": [
    {
     "data": {
      "image/png": "[encoded data removed]",
      "text/plain": [
       "<Figure size 640x480 with 1 Axes>"
      ]
     },
     "metadata": {},
     "output_type": "display_data"
    }
   ],
   "source": [
    "import numpy as np\n",
    "import matplotlib.pyplot as plt\n",
    "from scipy.optimize import curve_fit\n",
    "\n",
    "# generate some sample data\n",
    "x = np.linspace(-5, 5, 50)\n",
    "y = 3*x**2 + 2*x - 1 + 3*np.random.randn(50)\n",
    "\n",
    "# define the model function\n",
    "def quadratic(x, a, b, c):\n",
    "    return a*x**2 + b*x + c\n",
    "\n",
    "# fit the model to the data\n",
    "popt, pcov = curve_fit(quadratic, x, y) # what is ppot and pcov????\n",
    "\n",
    "# plot the data and the fitted model\n",
    "plt.scatter(x, y, label='data')\n",
    "plt.plot(x, quadratic(x, *popt), 'r-', label='fit')\n",
    "plt.legend()\n",
    "plt.show()\n"
   ]
  },
  {
   "cell_type": "markdown",
   "metadata": {
    "id": "scqSCr9vFqgC"
   },
   "source": [
    "- Nonlinear optimization: \n",
    "\n",
    "Scipy.optimize provides several functions for nonlinear optimization, which involves finding the minimum or maximum of a function subject to constraints\n",
    "\n",
    "Example:\n",
    "\n",
    "Suppose we want to minimize the Rosenbrock function, which is often used as a test function for optimization algorithms. We can use the scipy.optimize.minimize function to solve this problem"
   ]
  },
  {
   "cell_type": "code",
   "execution_count": 3,
   "metadata": {
    "colab": {
     "base_uri": "https://localhost:8080/"
    },
    "id": "HQI7LPtOFbD3",
    "outputId": "29e82899-b346-4ff6-a9e2-a6168862b76e"
   },
   "outputs": [
    {
     "name": "stdout",
     "output_type": "stream",
     "text": [
      "[0.9999955  0.99999099]\n"
     ]
    }
   ],
   "source": [
    "import numpy as np\n",
    "from scipy.optimize import minimize\n",
    "\n",
    "# define the Rosenbrock function\n",
    "def rosenbrock(x):\n",
    "    return 100*(x[1] - x[0]**2)**2 + (1 - x[0])**2\n",
    "\n",
    "# initial guess for the minimum\n",
    "x0 = np.array([-1.2, 1.0])\n",
    "\n",
    "# minimize the function\n",
    "res = minimize(rosenbrock, x0)\n",
    "\n",
    "print(res.x) \n"
   ]
  },
  {
   "cell_type": "markdown",
   "metadata": {
    "id": "R0jh9A6oGFOT"
   },
   "source": [
    "- Linear programming: \n",
    "\n",
    "Scipy.optimize includes functions for solving linear programming problems, which involve finding the optimal solution to a linear objective function subject to linear constraints.\n",
    "\n",
    "Example:\n",
    "\n",
    "Suppose we want to maximize the profit from selling two types of products, A and B, subject to some constraints. We can use the scipy.optimize.linprog function to solve this problem"
   ]
  },
  {
   "cell_type": "code",
   "execution_count": 4,
   "metadata": {
    "colab": {
     "base_uri": "https://localhost:8080/"
    },
    "id": "kSehzt7ZF6aL",
    "outputId": "64ec41e7-f0a9-471e-8ddb-45188177632f"
   },
   "outputs": [
    {
     "name": "stdout",
     "output_type": "stream",
     "text": [
      "-40.0\n",
      "[10.  0.]\n"
     ]
    }
   ],
   "source": [
    "import numpy as np\n",
    "from scipy.optimize import linprog\n",
    "\n",
    "# maximize profit function: 4A + 3B\n",
    "# subject to: A + B <= 10 (labor constraint)\n",
    "#            A + 3B <= 24 (material constraint)\n",
    "#            A >= 0, B >= 0\n",
    "c = np.array([-4, -3])\n",
    "A = np.array([[1, 1], [1, 3]])\n",
    "b = np.array([10, 24])\n",
    "bounds = [(0, None), (0, None)]\n",
    "\n",
    "res = linprog(c, A_ub=A, b_ub=b, bounds=bounds)\n",
    "\n",
    "print(res.fun)  #  the optimal value of the objective function \n",
    "print(res.x)    # the values of A and B that achieve this optimal value \n"
   ]
  },
  {
   "cell_type": "markdown",
   "metadata": {
    "id": "3lq4ROw6H-bR"
   },
   "source": [
    "- Quadratic programming: \n",
    "\n",
    "Scipy.optimize also includes functions for solving quadratic programming problems, which involve finding the optimal solution to a quadratic objective function subject to linear constraints.\n",
    "\n",
    "\n",
    "Example:\n",
    "\n",
    "Suppose we want to minimize a quadratic function subject to some linear constraints. We can use the scipy.optimize.minimizefunction with themethod='SLSQP'  option to solve this type of problem\n",
    "\n",
    "Here we are defining the objective function and two linear inequality constraints as separate functions, and then we pass them onto the minimize function along with the initial guess for the minimum, bounds on the variables, and the method='SLSQP' option to specify the optimization algorithm. \n",
    "What we get as the result is an optimal solution that minimizes the objective function subject to the constraints."
   ]
  },
  {
   "cell_type": "code",
   "execution_count": 5,
   "metadata": {
    "colab": {
     "base_uri": "https://localhost:8080/"
    },
    "id": "LLopsOTzGdOk",
    "outputId": "555c8877-ee76-483f-cfe1-8afc0355d632"
   },
   "outputs": [
    {
     "name": "stdout",
     "output_type": "stream",
     "text": [
      "5.999999999999996\n",
      "[2.00000000e+00 4.32986981e-15]\n"
     ]
    }
   ],
   "source": [
    "import numpy as np\n",
    "from scipy.optimize import minimize\n",
    "\n",
    "# minimize the quadratic function: x1^2 + 2*x2^2 + x1*x2 + x1 + x2\n",
    "# subject to: x1 + x2 >= 1\n",
    "#            x1 - x2 <= 2\n",
    "#            x1 >= 0, x2 >= 0\n",
    "\n",
    "def objective(x):\n",
    "    return x[0]**2 + 2*x[1]**2 + x[0]*x[1] + x[0] + x[1]\n",
    "\n",
    "def constraint1(x):\n",
    "    return x[0] + x[1] - 1\n",
    "\n",
    "def constraint2(x):\n",
    "    return x[0] - x[1] - 2\n",
    "\n",
    "x0 = [0, 0]\n",
    "bounds = [(0, None), (0, None)]\n",
    "constraints = [{'type': 'ineq', 'fun': constraint1},\n",
    "               {'type': 'ineq', 'fun': constraint2}]\n",
    "\n",
    "res = minimize(objective, x0, method='SLSQP', bounds=bounds, constraints=constraints)\n",
    "\n",
    "print(res.fun)  # minimum value\n",
    "print(res.x)    # optimal solution\n"
   ]
  },
  {
   "cell_type": "markdown",
   "metadata": {
    "id": "x9n_qSngJ6r4"
   },
   "source": [
    "  * Is it general-purpose software or domain-specific? What makes it unique?\n",
    "\n",
    "Scipy.optimize is a general-purpose software package for optimization problems, meaning that it can be applied to a wide range of domains, including engineering, physics, economics, and data science.\n",
    "\n",
    "What makes it unique is its wide range of optimization algorithms and tools. It includes methods for unconstrained and constrained optimization, as well as for nonlinear least-squares problems, root finding, and more. It also provides the ability to customize optimization options and constraints, and includes tools for sensitivity analysis and optimization under uncertainty\n",
    "\n",
    "\n",
    "* Who are the stakeholders?\n",
    "  * Who develops the software, who uses it, who pays for it?\n",
    "\n",
    "\n",
    "The stakeholders of this software include developers, users, and funding agencies.\n",
    "\n",
    "The software is developed by a large community of open-source contributors, led by a core development team that oversees the project and manages code contributions.\n",
    "\n",
    "The software is used by a wide range of stakeholders, including scientists, engineers, data analysts, and other practitioners who need to solve optimization problems. It is also used by educators and students in academic settings.\n",
    "\n",
    "As an open-source software package, Scipy.optimize is free to use and does not require payment. However, funding agencies may provide financial support to the Scipy project to help with development, maintenance, and community outreach. These funding agencies may include government agencies, private foundations, and companies that use the software for their own work.\n",
    "\n",
    "\n",
    "  * What are they looking for?\n",
    "  * How do they communicate and collaborate?\n",
    "  * Who uses the software?\n",
    "  * Who is impacted (positively or negatively) by use of the software?\n",
    "\n",
    "\n",
    "The stakeholders of this software have different motivations and goals:\n",
    "\n",
    "For instance:\n",
    "\n",
    "Developers are looking to contribute to the project and improve the software, as well as to gain experience in software development and optimization.\n",
    "\n",
    "Users are looking to solve optimization problems and obtain accurate and efficient results using the software.\n",
    "\n",
    "Funding agencies are looking to support the development of a useful and widely-used software package that can benefit the scientific community and advance research in various fields.\n",
    "\n",
    "Developers and users can communicate and collaborate through various channels, including the Scipy mailing list and the Scipy GitHub repository. These channels allow for discussion of new features, bug reports, and general support for the software.\n",
    "\n",
    "The software is used by a diverse range of practitioners, including scientists, engineers, data analysts, and educators. \n",
    "\n",
    "Its impact is generally positive, as it provides a powerful and flexible tool for solving optimization problems, which can lead to better scientific understanding and improved decision-making. However, the impact may not be positive in cases where the software is used for unethical or harmful purposes, such as optimizing systems that exploit marginalized groups or cause environmental harm.\n",
    "\n",
    "\n",
    "* Metrics and features\n",
    "  * How do concepts like accuracy, conditioning, stability, and cost appear?\n",
    "\n",
    "\n",
    "- Accuracy: \n",
    "\n",
    "Scipy.optimize includes methods for finding solutions to optimization problems with a high degree of accuracy, such as the BFGS algorithm for unconstrained optimization and the Trust Region Reflective algorithm for nonlinear least squares. These methods aim to minimize the objective function as accurately as possible within a given tolerance level.\n",
    "\n",
    "Example:\n"
   ]
  },
  {
   "cell_type": "code",
   "execution_count": 6,
   "metadata": {
    "colab": {
     "base_uri": "https://localhost:8080/"
    },
    "id": "imO8VHcAIp_b",
    "outputId": "6cd83655-7d0d-4636-d202-95be07646bca"
   },
   "outputs": [
    {
     "name": "stdout",
     "output_type": "stream",
     "text": [
      "[-6.81777517e-09 -6.81777466e-09]\n"
     ]
    }
   ],
   "source": [
    "from scipy.optimize import minimize\n",
    "\n",
    "def objective(x):\n",
    "    return (x[0]**2 + x[1]**2)**0.5\n",
    "\n",
    "initial_guess = [1, 1]\n",
    "result = minimize(objective, initial_guess, method='BFGS')\n",
    "print(result.x)  # prints the minimum point found by the algorithm\n"
   ]
  },
  {
   "cell_type": "markdown",
   "metadata": {
    "id": "ikcjqw9GO6FN"
   },
   "source": [
    "- Conditioning: \n",
    "\n",
    "Scipy.optimize includes tools for analyzing the conditioning of optimization problems, which can help users identify potential numerical issues that may affect the accuracy and stability of the solutions. \n",
    "\n",
    "Example:\n",
    "\n",
    "The linprog function can detect infeasible or unbounded problems, and the check_grad function can check the gradient of the objective function to ensure it is well-conditioned."
   ]
  },
  {
   "cell_type": "code",
   "execution_count": 7,
   "metadata": {
    "colab": {
     "base_uri": "https://localhost:8080/"
    },
    "id": "c9Z6XrVqOCvt",
    "outputId": "d27ea38d-085b-4856-dd3e-43d0837f15d1"
   },
   "outputs": [
    {
     "name": "stdout",
     "output_type": "stream",
     "text": [
      "        message: Optimization terminated successfully. (HiGHS Status 7: Optimal)\n",
      "        success: True\n",
      "         status: 0\n",
      "            fun: -1.0\n",
      "              x: [ 0.000e+00  1.000e+00]\n",
      "            nit: 0\n",
      "          lower:  residual: [ 0.000e+00  1.000e+00]\n",
      "                 marginals: [ 1.500e+00  0.000e+00]\n",
      "          upper:  residual: [       inf        inf]\n",
      "                 marginals: [ 0.000e+00  0.000e+00]\n",
      "          eqlin:  residual: []\n",
      "                 marginals: []\n",
      "        ineqlin:  residual: [ 0.000e+00  0.000e+00]\n",
      "                 marginals: [-0.000e+00 -5.000e-01]\n",
      " mip_node_count: 0\n",
      " mip_dual_bound: 0.0\n",
      "        mip_gap: 0.0\n"
     ]
    }
   ],
   "source": [
    "from scipy.optimize import linprog\n",
    "\n",
    "A = [[-1, 1], [1, 2]]\n",
    "b = [1, 2]\n",
    "c = [1, -1]\n",
    "\n",
    "result = linprog(c, A_ub=A, b_ub=b)\n",
    "print(result)  # prints the optimization result\n"
   ]
  },
  {
   "cell_type": "markdown",
   "metadata": {
    "id": "aozzjHF2Q2U2"
   },
   "source": [
    "Using the check_grad function to check the gradient of the objective function to ensure it is well-conditioned.\n",
    "\n",
    "Example:\n",
    "\n",
    "We will define a function that computes the value of the cost function and its gradient for a given set of parameters. Then we will use the check_grad function to approximate the gradient numerically and compare it with the analytical gradient computed by the function we defined. If the difference between the two gradients is small, it indicates that the gradient is well-conditioned."
   ]
  },
  {
   "cell_type": "code",
   "execution_count": 8,
   "metadata": {
    "colab": {
     "base_uri": "https://localhost:8080/"
    },
    "id": "8NDCCWxSP3o-",
    "outputId": "f9105dce-623b-447a-d507-2eca4c62218a"
   },
   "outputs": [
    {
     "name": "stdout",
     "output_type": "stream",
     "text": [
      "The gradient is not well-conditioned.\n"
     ]
    }
   ],
   "source": [
    "import numpy as np\n",
    "from scipy.optimize import check_grad\n",
    "\n",
    "# Define the objective function and its gradient\n",
    "def cost_func(params, x, y):\n",
    "    # Compute the value of the cost function\n",
    "    y_hat = params[0] * x + params[1]\n",
    "    cost = np.sum((y - y_hat) ** 2)\n",
    "    # Compute the gradient of the cost function\n",
    "    grad = np.zeros(2)\n",
    "    grad[0] = np.sum(2 * (y_hat - y) * x)\n",
    "    grad[1] = np.sum(2 * (y_hat - y))\n",
    "    return cost, grad\n",
    "\n",
    "# Generate some data\n",
    "x = np.random.rand(100)\n",
    "y = 2 * x + 1 + np.random.randn(100) * 0.1\n",
    "\n",
    "# Define the initial parameters\n",
    "params_init = np.array([0, 0])\n",
    "\n",
    "# Compute the gradient numerically using check_grad\n",
    "grad_approx = check_grad(lambda params: cost_func(params, x, y)[0], \n",
    "                         lambda params: cost_func(params, x, y)[1], \n",
    "                         params_init)\n",
    "\n",
    "# Compute the gradient analytically\n",
    "_, grad_analytic = cost_func(params_init, x, y)\n",
    "\n",
    "# Define the tolerance for comparing the gradients\n",
    "tolerance = 1e-6\n",
    "\n",
    "# Compute the absolute difference between the gradients\n",
    "grad_diff = np.abs(grad_approx - grad_analytic)\n",
    "\n",
    "# Check if the difference is within the tolerance\n",
    "if np.all(grad_diff < tolerance):\n",
    "    print(\"The gradient is well-conditioned.\")\n",
    "else:\n",
    "    print(\"The gradient is not well-conditioned.\")\n"
   ]
  },
  {
   "cell_type": "markdown",
   "metadata": {
    "id": "ezjc01K6SZg2"
   },
   "source": [
    "- Stability: \n",
    "\n",
    "Scipy.optimize includes methods for ensuring the stability of optimization algorithms, such as the Levenberg-Marquardt algorithm for nonlinear least squares, which adjusts the step size of the iterations to prevent numerical instability.\n",
    "\n",
    "Example:\n"
   ]
  },
  {
   "cell_type": "code",
   "execution_count": 9,
   "metadata": {
    "colab": {
     "base_uri": "https://localhost:8080/"
    },
    "id": "1bpdb60ZRm35",
    "outputId": "83ba4b1a-b7ea-46fa-bc7a-246482adb2a2"
   },
   "outputs": [
    {
     "name": "stdout",
     "output_type": "stream",
     "text": [
      "[1. 1.]\n"
     ]
    }
   ],
   "source": [
    "from scipy.optimize import least_squares\n",
    "\n",
    "def objective(x):\n",
    "    return [10 * (x[1] - x[0]**2), (1 - x[0])]\n",
    "\n",
    "initial_guess = [0.5, 0.5]\n",
    "result = least_squares(objective, initial_guess, method='lm')\n",
    "print(result.x)  # prints the minimum point found by the algorithm\n"
   ]
  },
  {
   "cell_type": "markdown",
   "metadata": {
    "id": "ppHkiUySUTgv"
   },
   "source": [
    "- Cost: \n",
    "\n",
    "Scipy.optimize includes methods for optimizing the cost of an objective function, such as the SLSQP algorithm for both equality and inequality constraints optimization, which aims to minimize the objective function while satisfying the given constraints. \n",
    "\n",
    "It also includes tools for evaluating the computational cost of optimization algorithms, such as the OptimizeResult object, which provides information on the number of function and gradient evaluations performed during the optimization.\n",
    "\n",
    "Example:\n"
   ]
  },
  {
   "cell_type": "code",
   "execution_count": 10,
   "metadata": {
    "colab": {
     "base_uri": "https://localhost:8080/"
    },
    "id": "GOiTc-XDS2bT",
    "outputId": "4578438c-2fd9-4828-cb7f-f738b47357e6"
   },
   "outputs": [
    {
     "name": "stdout",
     "output_type": "stream",
     "text": [
      "[0.5 0.5]\n",
      "3\n"
     ]
    }
   ],
   "source": [
    "from scipy.optimize import minimize\n",
    "\n",
    "def objective(x):\n",
    "    return (x[0]**2 + x[1]**2)**0.5\n",
    "\n",
    "def constraint(x):\n",
    "    return x[0] + x[1] - 1\n",
    "\n",
    "initial_guess = [0.5, 0.5]\n",
    "result = minimize(objective, initial_guess, constraints={'type': 'eq', 'fun': constraint}, method='SLSQP')\n",
    "print(result.x)  # prints the minimum point found by the algorithm\n",
    "print(result.nfev)  # prints the number of function evaluations performed during the optimization( i,e the \n",
    "# number of function evaluations performed by the optimizer to find the minimum point.)\n",
    "\n"
   ]
  },
  {
   "cell_type": "markdown",
   "metadata": {
    "id": "Ln7gOHaDXaoo"
   },
   "source": [
    " * If the software is fast, how is \"fast\" defined?\n",
    "\n",
    "Many of the algorithms included in the Scipy.optimize are designed to be fast and efficient.\n",
    "\n",
    "\"fast\" can be defined as the ability to find a high-quality solution to the optimization problem within a reasonable amount of time, given the size and complexity of the problem. This can be measured using metrics such as the number of function and gradient evaluations, the runtime of the algorithm, and the accuracy of the solution.\n",
    "\n",
    "Scipy.optimize includes a range of algorithms for different types of optimization problems, each with their own tradeoffs between speed and accuracy. For example, some of the faster algorithms for unconstrained optimization include the Limited-memory Broyden-Fletcher-Goldfarb-Shanno (L-BFGS) algorithm and the Conjugate Gradient (CG) algorithm, which can be more efficient than more accurate but computationally expensive algorithms like Newton's method.\n",
    "\n",
    "Example:\n",
    "\n",
    "We will be using the minimize function in Scipy.optimize to optimize a simple quadratic function using two different algorithms, and comparing their runtime:\n",
    "\n",
    "We will then print the number of iterations (nit) performed by each algorithm which indicates that fewer iterations implies a faster runtime in most cases. "
   ]
  },
  {
   "cell_type": "code",
   "execution_count": 11,
   "metadata": {
    "colab": {
     "base_uri": "https://localhost:8080/"
    },
    "id": "xUCqzOqYVYAQ",
    "outputId": "6e873a20-26e0-4c2c-ae2d-bcfc6db2bb78"
   },
   "outputs": [
    {
     "name": "stdout",
     "output_type": "stream",
     "text": [
      "L-BFGS-B runtime:  2\n",
      "Nelder-Mead runtime:  38\n"
     ]
    }
   ],
   "source": [
    "import numpy as np\n",
    "from scipy.optimize import minimize\n",
    "\n",
    "# Define the objective function\n",
    "def obj_func(x):\n",
    "    return x[0]**2 + x[1]**2\n",
    "\n",
    "# Starting point for optimization\n",
    "x0 = np.array([1.0, 1.0])\n",
    "\n",
    "# Define the constraints (none for this example)\n",
    "constraints = ()\n",
    "\n",
    "# Set up optimization problem\n",
    "problem = {'fun': obj_func, 'x0': x0, 'constraints': constraints}\n",
    "\n",
    "# Use the L-BFGS-B algorithm\n",
    "result_lbfgsb = minimize(method='L-BFGS-B', **problem)\n",
    "\n",
    "# Use the Nelder-Mead algorithm\n",
    "result_nelder = minimize(method='Nelder-Mead', **problem)\n",
    "\n",
    "# Compare runtimes\n",
    "print(\"L-BFGS-B runtime: \", result_lbfgsb['nit'])\n",
    "print(\"Nelder-Mead runtime: \", result_nelder['nit'])\n"
   ]
  },
  {
   "cell_type": "markdown",
   "metadata": {
    "id": "6fcYQUTAdwq3"
   },
   "source": [
    " * If the software is accurate, what does accuracy mean? Could you make a plot, say accuracy vs cost? How would you label the axes to make it relevant to a stakeholder?\n",
    "\n",
    "\n",
    "Accuracy refers to the ability of the optimization algorithm to find a high-quality solution to the problem, typically measured in terms of the difference between the optimal objective function value and the solution obtained by the algorithm.\n",
    "\n",
    "Example:\n",
    "\n",
    "We can illustrate this concept of accuracy vs cost by considering a simple optimization problem with a known analytical solution, such as the Rosenbrock function:\n",
    "\n",
    "Here we are using the minimize_scalar function in Scipy.optimize to minimize the Rosenbrock function using the Brent method and the golden section method. We then calculate the accuracy and cost of each method by comparing the obtained minimum with the true minimum of the function, and counting the number of function evaluations (nfev) required by each method.\n",
    "\n",
    "We then plot the accuracy vs cost of each method, labeling the x-axis as \"Cost (function evaluations)\" and the y-axis as \"Accuracy (difference from true minimum)\". \n",
    "\n",
    "This plot can help stakeholders understand the tradeoff between accuracy and computational cost when choosing an optimization algorithm for their specific problem."
   ]
  },
  {
   "cell_type": "code",
   "execution_count": 12,
   "metadata": {
    "colab": {
     "base_uri": "https://localhost:8080/",
     "height": 449
    },
    "id": "-Juuv-RYVtd_",
    "outputId": "26444412-8aa0-4b06-a49f-cc1f77202c70"
   },
   "outputs": [
    {
     "data": {
      "image/png": "[encoded data removed]",
      "text/plain": [
       "<Figure size 640x480 with 1 Axes>"
      ]
     },
     "metadata": {},
     "output_type": "display_data"
    }
   ],
   "source": [
    "import numpy as np\n",
    "from scipy.optimize import minimize_scalar\n",
    "\n",
    "# Define the Rosenbrock function\n",
    "def rosenbrock(x):\n",
    "    return (1 - x)**2 + 100 * (x - x**2)**2\n",
    "\n",
    "# Find the minimum using the Brent method\n",
    "result_brent = minimize_scalar(rosenbrock, method='brent')\n",
    "\n",
    "# Find the minimum using the golden section method\n",
    "result_golden = minimize_scalar(rosenbrock, method='golden')\n",
    "\n",
    "# Calculate the true minimum value\n",
    "true_minimum = rosenbrock(1)\n",
    "\n",
    "# Calculate the accuracy and cost of each method\n",
    "accuracy_brent = np.abs(result_brent.fun - true_minimum)\n",
    "accuracy_golden = np.abs(result_golden.fun - true_minimum)\n",
    "cost_brent = result_brent.nfev\n",
    "cost_golden = result_golden.nfev\n",
    "\n",
    "# Plot the accuracy vs cost\n",
    "import matplotlib.pyplot as plt\n",
    "\n",
    "fig, ax = plt.subplots()\n",
    "ax.scatter([cost_brent, cost_golden], [accuracy_brent, accuracy_golden])\n",
    "ax.set_xlabel('Cost (function evaluations)')\n",
    "ax.set_ylabel('Accuracy (difference from true minimum)')\n",
    "ax.text(cost_brent, accuracy_brent, 'Brent')\n",
    "ax.text(cost_golden, accuracy_golden, 'Golden')\n",
    "plt.show()\n"
   ]
  },
  {
   "cell_type": "markdown",
   "metadata": {
    "id": "BWzd04nCkeqg"
   },
   "source": [
    "* Would different stakeholders want different axes (because they care about different things)?\n",
    "\n",
    "Yes, different stakeholders may want different axes on the plot because they may care about different aspects of the optimization problem. For example, a researcher developing a new optimization algorithm may be interested in a plot of accuracy vs time, where time is the elapsed wall-clock time required to obtain a solution with a certain level of accuracy. On the other hand, an engineer using an optimization algorithm in a real-time control system may be interested in a plot of accuracy vs computational cost, where computational cost is the amount of processing power required to obtain a solution with a certain level of accuracy.\n",
    "\n",
    "* Are there modeling decisions made in the interest of good conditioning? Are there algorithmic choices made for stability?\n",
    "\n",
    "Yes, there are often modeling decisions made in the interest of good conditioning and algorithmic choices made for stability in optimization problems.\n",
    "\n",
    "For example, when formulating a quadratic programming problem, it is often beneficial to use a different set of variables or constraints to improve the conditioning of the problem. Additionally, some optimization algorithms, such as the conjugate gradient method, are designed to be more numerically stable than others, such as the steepest descent method, by minimizing the effects of rounding errors and other sources of numerical error.\n",
    "\n",
    "Within the Scipy.optimize package, many of the algorithms and methods have been designed with considerations for conditioning and stability. For example, the nonlinear least squares solver scipy.optimize.least_squares uses a trust-region algorithm that is specifically designed to handle ill-conditioned problems. The solver also includes options for users to adjust the trust-region radius and the maximum number of iterations, which can help improve the stability and convergence of the algorithm.\n",
    "\n",
    "*  Share at least one question you have about the software.\n",
    "\n",
    "How does the software handle constraints and what types of constraints can be used in optimization problems?\n",
    "\n",
    "What are the limitations of the optimization algorithms and methods included in the package, and are there any known issues or bugs that users should be aware of when using the software?\n",
    "\n",
    "How does the package handle large-scale optimization problems, and are there any specialized algorithms or methods available for dealing with such problems?\n",
    "\n",
    "\n",
    "*  Propose at least one experiment that would be interesting for a group project. Describe what the experiment would measure and how it would be presented (e.g., what the axes would be on a\n",
    "figure).\n",
    "\n",
    "\n",
    "An experiment  involving Scipy.optimize would be to compare the performance and accuracy of different optimization algorithms on a large-scale, real-world optimization problem.\n",
    "\n",
    "This would be an interesting experiment since it involves applying optimization algorithms to a real-world problem and comparing their performance and accuracy. It would also provide insights into the strengths and weaknesses of different algorithms and help users choose the best algorithm for their specific problem.\n",
    "\n",
    "STEPS:\n",
    "\n",
    "- Problem selection: \n",
    "\n",
    "The first step  would be to select a large-scale optimization problem that is relevant to one or more stakeholders. This could be a problem from finance, engineering, logistics, or any other field where optimization is important. The problem should have many variables and constraints, and should be complex and difficult to solve using standard methods.\n",
    "\n",
    "- Algorithm selection: \n",
    "\n",
    "Next, a group of optimization algorithms would be selected to compare on this problem. These could include algorithms from Scipy.optimize, such as the BFGS, L-BFGS-B, SLSQP, and CG algorithms, as well as other popular optimization algorithms like the Nelder-Mead algorithm, the Powell algorithm, and the conjugate gradient method. The choice of algorithms should be based on their suitability for the problem.\n",
    "\n",
    "- Experiment setup: \n",
    "\n",
    "Once the problem and algorithms are selected, the experiment can be set up. This would involve running each algorithm on the problem and measuring its performance and accuracy. To measure performance, the algorithm's runtime and number of function evaluations would be recorded. To measure accuracy, the algorithm's objective function value and the feasibility of the solution would be recorded.\n",
    "\n",
    "- Results analysis: \n",
    "\n",
    "After the experiments are run, the results would be analyzed to compare the performance and accuracy of the different algorithms. The performance of each algorithm would be presented in terms of its runtime and number of function evaluations, while the accuracy of each algorithm would be presented in terms of its objective function value and feasibility. The results could be presented in a table or a figure, with each algorithm's performance and accuracy plotted on different axes.\n",
    "\n",
    "- Discussion and conclusion: \n",
    "\n",
    "Finally, the results would be discussed and conclusions would be drawn about the best algorithm for the given problem. The limitations and assumptions of the experiment would also be discussed, as well as potential areas for future research and improvements to the algorithms or methods used.\n",
    "\n",
    "##\n",
    "\n"
   ]
  }
 ],
 "metadata": {
  "colab": {
   "provenance": []
  },
  "kernelspec": {
   "display_name": "Python 3 (ipykernel)",
   "language": "python",
   "name": "python3"
  },
  "language_info": {
   "codemirror_mode": {
    "name": "ipython",
    "version": 3
   },
   "file_extension": ".py",
   "mimetype": "text/x-python",
   "name": "python",
   "nbconvert_exporter": "python",
   "pygments_lexer": "ipython3",
   "version": "3.9.13"
  }
 },
 "nbformat": 4,
 "nbformat_minor": 1
}
